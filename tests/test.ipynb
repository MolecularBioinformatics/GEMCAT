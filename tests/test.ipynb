{
 "cells": [
  {
   "cell_type": "code",
   "execution_count": 6,
   "metadata": {},
   "outputs": [],
   "source": [
    "import gemcat as gc\n",
    "import pandas as pd\n",
    "import cobra"
   ]
  },
  {
   "cell_type": "code",
   "execution_count": 4,
   "metadata": {},
   "outputs": [
    {
     "data": {
      "text/plain": [
       "10fthf5glu[c]    1.009677\n",
       "10fthf5glu[l]    1.002655\n",
       "10fthf5glu[m]    1.013616\n",
       "10fthf6glu[c]    1.003871\n",
       "10fthf6glu[l]    1.002531\n",
       "Name: 0, dtype: float64"
      ]
     },
     "execution_count": 4,
     "metadata": {},
     "output_type": "execute_result"
    }
   ],
   "source": [
    "expected = pd.read_csv('./test_results/uc.csv', index_col=0).iloc[:, 0]\n",
    "expected.head()"
   ]
  },
  {
   "cell_type": "code",
   "execution_count": 5,
   "metadata": {},
   "outputs": [
    {
     "data": {
      "text/html": [
       "<div>\n",
       "<style scoped>\n",
       "    .dataframe tbody tr th:only-of-type {\n",
       "        vertical-align: middle;\n",
       "    }\n",
       "\n",
       "    .dataframe tbody tr th {\n",
       "        vertical-align: top;\n",
       "    }\n",
       "\n",
       "    .dataframe thead th {\n",
       "        text-align: right;\n",
       "    }\n",
       "</style>\n",
       "<table border=\"1\" class=\"dataframe\">\n",
       "  <thead>\n",
       "    <tr style=\"text-align: right;\">\n",
       "      <th></th>\n",
       "      <th>log2FoldChange</th>\n",
       "      <th>padj</th>\n",
       "      <th>foldchange</th>\n",
       "      <th>base</th>\n",
       "    </tr>\n",
       "    <tr>\n",
       "      <th>gene name</th>\n",
       "      <th></th>\n",
       "      <th></th>\n",
       "      <th></th>\n",
       "      <th></th>\n",
       "    </tr>\n",
       "  </thead>\n",
       "  <tbody>\n",
       "    <tr>\n",
       "      <th>10351.1</th>\n",
       "      <td>-1.113058</td>\n",
       "      <td>6.906275e-04</td>\n",
       "      <td>0.462313</td>\n",
       "      <td>1.0</td>\n",
       "    </tr>\n",
       "    <tr>\n",
       "      <th>5243.1</th>\n",
       "      <td>-0.874997</td>\n",
       "      <td>2.344156e-05</td>\n",
       "      <td>0.545255</td>\n",
       "      <td>1.0</td>\n",
       "    </tr>\n",
       "    <tr>\n",
       "      <th>8647.1</th>\n",
       "      <td>-1.092346</td>\n",
       "      <td>3.285012e-04</td>\n",
       "      <td>0.468998</td>\n",
       "      <td>1.0</td>\n",
       "    </tr>\n",
       "    <tr>\n",
       "      <th>10449.1</th>\n",
       "      <td>-0.829147</td>\n",
       "      <td>2.477650e-06</td>\n",
       "      <td>0.562862</td>\n",
       "      <td>1.0</td>\n",
       "    </tr>\n",
       "    <tr>\n",
       "      <th>38.1</th>\n",
       "      <td>-0.837336</td>\n",
       "      <td>1.011360e-07</td>\n",
       "      <td>0.559676</td>\n",
       "      <td>1.0</td>\n",
       "    </tr>\n",
       "  </tbody>\n",
       "</table>\n",
       "</div>"
      ],
      "text/plain": [
       "           log2FoldChange          padj  foldchange  base\n",
       "gene name                                                \n",
       "10351.1         -1.113058  6.906275e-04    0.462313   1.0\n",
       "5243.1          -0.874997  2.344156e-05    0.545255   1.0\n",
       "8647.1          -1.092346  3.285012e-04    0.468998   1.0\n",
       "10449.1         -0.829147  2.477650e-06    0.562862   1.0\n",
       "38.1            -0.837336  1.011360e-07    0.559676   1.0"
      ]
     },
     "execution_count": 5,
     "metadata": {},
     "output_type": "execute_result"
    }
   ],
   "source": [
    "exp = pd.read_csv('./test_seq/prot_uc_vs_healthy.csv', index_col=0)\n",
    "exp.head()"
   ]
  },
  {
   "cell_type": "code",
   "execution_count": 8,
   "metadata": {},
   "outputs": [],
   "source": [
    "model = cobra.io.load_json_model('./test_models/Recon3D.json')"
   ]
  },
  {
   "cell_type": "code",
   "execution_count": 11,
   "metadata": {},
   "outputs": [],
   "source": [
    "results = gc.workflows.workflow_standard(\n",
    "    cobra_model=model,\n",
    "    mapped_genes_baseline=exp[\"base\"],\n",
    "    mapped_genes_comparison=exp[\"foldchange\"],\n",
    "    gene_fill=1.0,\n",
    ")"
   ]
  },
  {
   "cell_type": "code",
   "execution_count": 12,
   "metadata": {},
   "outputs": [
    {
     "data": {
      "text/plain": [
       "HC01223[m]   -0.029117\n",
       "M01268[n]    -0.012183\n",
       "CE4969[m]    -0.012028\n",
       "2mp2coa[m]   -0.011041\n",
       "M01268[c]    -0.008817\n",
       "                ...   \n",
       "pep[c]        0.004107\n",
       "3hmp[c]       0.004133\n",
       "3hmp[m]       0.006353\n",
       "CE4804[m]     0.017471\n",
       "M01268[m]     0.036725\n",
       "Length: 8399, dtype: float64"
      ]
     },
     "execution_count": 12,
     "metadata": {},
     "output_type": "execute_result"
    }
   ],
   "source": [
    "(expected - results).sort_values()"
   ]
  }
 ],
 "metadata": {
  "kernelspec": {
   "display_name": "pr",
   "language": "python",
   "name": "python3"
  },
  "language_info": {
   "codemirror_mode": {
    "name": "ipython",
    "version": 3
   },
   "file_extension": ".py",
   "mimetype": "text/x-python",
   "name": "python",
   "nbconvert_exporter": "python",
   "pygments_lexer": "ipython3",
   "version": "3.12.0"
  }
 },
 "nbformat": 4,
 "nbformat_minor": 2
}
