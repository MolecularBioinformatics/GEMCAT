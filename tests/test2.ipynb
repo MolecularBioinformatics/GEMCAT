{
 "cells": [
  {
   "cell_type": "code",
   "execution_count": 6,
   "id": "79edd0f7",
   "metadata": {},
   "outputs": [],
   "source": [
    "import sparse\n",
    "import numpy as np"
   ]
  },
  {
   "cell_type": "code",
   "execution_count": 9,
   "id": "6a9980d6",
   "metadata": {},
   "outputs": [],
   "source": [
    "num = np.array(\n",
    "    [\n",
    "        [-1, +1, -1, +1, -1, -1, +1, +1, -1, 00, 00, 00, 00, 00, 00, 00, 00, 00],\n",
    "        [+1, -1, 00, 00, 00, 00, 00, 00, 00, +1, +1, 00, 00, 00, 00, 00, 00, 00],\n",
    "        [00, 00, +1, -1, 00, 00, 00, 00, 00, -1, 00, +1, +1, 00, 00, 00, 00, 00],\n",
    "        [00, 00, 00, 00, +1, 00, 00, 00, 00, 00, -1, -1, 00, -1, +1, 00, 00, 00],\n",
    "        [00, 00, 00, 00, 00, +1, -1, 00, 00, 00, 00, 00, -1, +1, -1, -1, +1, +1],\n",
    "        [00, 00, 00, 00, 00, 00, 00, -1, 00, 00, 00, 00, 00, 00, 00, +1, -1, 00],\n",
    "        [00, 00, 00, 00, 00, 00, 00, 00, +1, 00, 00, 00, 00, 00, 00, 00, 00, -1],\n",
    "    ]\n",
    ")"
   ]
  },
  {
   "cell_type": "code",
   "execution_count": 10,
   "id": "6205ed86",
   "metadata": {},
   "outputs": [
    {
     "data": {
      "text/html": [
       "<table><tbody><tr><th style=\"text-align: left\">Format</th><td style=\"text-align: left\">coo</td></tr><tr><th style=\"text-align: left\">Data Type</th><td style=\"text-align: left\">int64</td></tr><tr><th style=\"text-align: left\">Shape</th><td style=\"text-align: left\">(7, 18)</td></tr><tr><th style=\"text-align: left\">nnz</th><td style=\"text-align: left\">36</td></tr><tr><th style=\"text-align: left\">Density</th><td style=\"text-align: left\">0.2857142857142857</td></tr><tr><th style=\"text-align: left\">Read-only</th><td style=\"text-align: left\">True</td></tr><tr><th style=\"text-align: left\">Size</th><td style=\"text-align: left\">864</td></tr><tr><th style=\"text-align: left\">Storage ratio</th><td style=\"text-align: left\">0.86</td></tr></tbody></table>"
      ],
      "text/plain": [
       "<COO: shape=(7, 18), dtype=int64, nnz=36, fill_value=0>"
      ]
     },
     "execution_count": 10,
     "metadata": {},
     "output_type": "execute_result"
    }
   ],
   "source": [
    "sparse.COO(num)"
   ]
  }
 ],
 "metadata": {
  "kernelspec": {
   "display_name": "pr-upgrade",
   "language": "python",
   "name": "python3"
  },
  "language_info": {
   "codemirror_mode": {
    "name": "ipython",
    "version": 3
   },
   "file_extension": ".py",
   "mimetype": "text/x-python",
   "name": "python",
   "nbconvert_exporter": "python",
   "pygments_lexer": "ipython3",
   "version": "3.12.0"
  }
 },
 "nbformat": 4,
 "nbformat_minor": 5
}
