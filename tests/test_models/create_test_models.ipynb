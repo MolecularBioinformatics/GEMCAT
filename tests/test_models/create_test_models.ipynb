{
 "cells": [
  {
   "cell_type": "code",
   "execution_count": 1,
   "metadata": {
    "ExecuteTime": {
     "end_time": "2021-04-16T11:27:48.354542Z",
     "start_time": "2021-04-16T11:27:47.146157Z"
    }
   },
   "outputs": [],
   "source": [
    "import cobra"
   ]
  },
  {
   "cell_type": "markdown",
   "metadata": {},
   "source": [
    "# Mini"
   ]
  },
  {
   "cell_type": "code",
   "execution_count": 2,
   "metadata": {
    "ExecuteTime": {
     "end_time": "2021-04-16T11:27:48.359797Z",
     "start_time": "2021-04-16T11:27:48.356860Z"
    }
   },
   "outputs": [],
   "source": [
    "a = cobra.Metabolite(id='A', name='A')\n",
    "b = cobra.Metabolite(id='B', name='B')\n",
    "c = cobra.Metabolite(id='C', name='C')\n",
    "d = cobra.Metabolite(id='D', name='D')\n",
    "mini_mets = [a, b, c, d]"
   ]
  },
  {
   "cell_type": "code",
   "execution_count": 3,
   "metadata": {
    "ExecuteTime": {
     "end_time": "2021-04-16T11:27:48.376005Z",
     "start_time": "2021-04-16T11:27:48.361197Z"
    }
   },
   "outputs": [],
   "source": [
    "r1 = cobra.Reaction(id='R1', name='R1', lower_bound=0, upper_bound=1)\n",
    "r2 = cobra.Reaction(id='R2', name='R2', lower_bound=0, upper_bound=1)\n",
    "r3 = cobra.Reaction(id='R3', name='R3', lower_bound=0, upper_bound=1)\n",
    "r4 = cobra.Reaction(id='R4', name='R4', lower_bound=0, upper_bound=1)\n",
    "mini_rxns = [r1, r2, r3, r4]"
   ]
  },
  {
   "cell_type": "code",
   "execution_count": 4,
   "metadata": {
    "ExecuteTime": {
     "end_time": "2021-04-16T11:27:48.387992Z",
     "start_time": "2021-04-16T11:27:48.377635Z"
    }
   },
   "outputs": [],
   "source": [
    "for rxn in mini_rxns:\n",
    "    rxn.compartment = 'c'\n",
    "for met in mini_mets:\n",
    "    met.compartment = 'c'"
   ]
  },
  {
   "cell_type": "code",
   "execution_count": 5,
   "metadata": {
    "ExecuteTime": {
     "end_time": "2021-04-16T11:27:48.398208Z",
     "start_time": "2021-04-16T11:27:48.389659Z"
    }
   },
   "outputs": [],
   "source": [
    "r1.add_metabolites({a: -1, b: 1})\n",
    "r2.add_metabolites({a: -1, c: 1})\n",
    "r3.add_metabolites({b: -1, d: 1})\n",
    "r4.add_metabolites({c: -1, d: 1})"
   ]
  },
  {
   "cell_type": "code",
   "execution_count": 6,
   "metadata": {
    "ExecuteTime": {
     "end_time": "2021-04-16T11:27:48.408037Z",
     "start_time": "2021-04-16T11:27:48.399762Z"
    }
   },
   "outputs": [],
   "source": [
    "g1 = cobra.Gene(id='G1')\n",
    "g2 = cobra.Gene(id='G2')\n",
    "g3 = cobra.Gene(id='G3')\n",
    "g4 = cobra.Gene(id='G4')"
   ]
  },
  {
   "cell_type": "code",
   "execution_count": 7,
   "metadata": {
    "ExecuteTime": {
     "end_time": "2021-04-16T11:27:48.421789Z",
     "start_time": "2021-04-16T11:27:48.411145Z"
    }
   },
   "outputs": [],
   "source": [
    "r1.gene_reaction_rule = 'G1'\n",
    "r2.gene_reaction_rule = 'G2'\n",
    "r3.gene_reaction_rule = 'G3'\n",
    "r4.gene_reaction_rule = 'G4'"
   ]
  },
  {
   "cell_type": "code",
   "execution_count": 8,
   "metadata": {
    "ExecuteTime": {
     "end_time": "2021-04-16T11:27:48.452887Z",
     "start_time": "2021-04-16T11:27:48.425297Z"
    }
   },
   "outputs": [
    {
     "name": "stdout",
     "output_type": "stream",
     "text": [
      "Using license file /home/roland/gurobi.lic\n",
      "Academic license - for non-commercial use only - expires 2021-05-11\n"
     ]
    }
   ],
   "source": [
    "mini = cobra.Model('test_mini', 'test_mini')\n",
    "mini.add_reactions(mini_rxns)"
   ]
  },
  {
   "cell_type": "code",
   "execution_count": 9,
   "metadata": {
    "ExecuteTime": {
     "end_time": "2021-04-16T11:27:48.466175Z",
     "start_time": "2021-04-16T11:27:48.456076Z"
    }
   },
   "outputs": [],
   "source": [
    "cobra.io.write_sbml_model(mini, 'mini.xml')\n",
    "cobra.io.save_json_model(mini, 'mini.json')"
   ]
  },
  {
   "cell_type": "markdown",
   "metadata": {},
   "source": [
    "# Mini reversible"
   ]
  },
  {
   "cell_type": "code",
   "execution_count": 10,
   "metadata": {
    "ExecuteTime": {
     "end_time": "2021-04-16T11:27:48.482407Z",
     "start_time": "2021-04-16T11:27:48.469855Z"
    }
   },
   "outputs": [],
   "source": [
    "mini.reactions.get_by_id('R1').lower_bound = -1\n",
    "cobra.io.write_sbml_model(mini, 'mini_reversible.xml')\n",
    "cobra.io.save_json_model(mini, 'mini_reversible.json')"
   ]
  },
  {
   "cell_type": "markdown",
   "metadata": {},
   "source": [
    "# Mini redox"
   ]
  },
  {
   "cell_type": "code",
   "execution_count": 11,
   "metadata": {
    "ExecuteTime": {
     "end_time": "2021-04-16T11:27:48.492326Z",
     "start_time": "2021-04-16T11:27:48.487840Z"
    }
   },
   "outputs": [],
   "source": [
    "mini.reactions.get_by_id('R1').lower_bound = 0"
   ]
  },
  {
   "cell_type": "code",
   "execution_count": 12,
   "metadata": {
    "ExecuteTime": {
     "end_time": "2021-04-16T11:27:48.501794Z",
     "start_time": "2021-04-16T11:27:48.495973Z"
    }
   },
   "outputs": [],
   "source": [
    "e = cobra.Metabolite('E', compartment='c'); f = cobra.Metabolite('F', compartment='c')"
   ]
  },
  {
   "cell_type": "code",
   "execution_count": 13,
   "metadata": {
    "ExecuteTime": {
     "end_time": "2021-04-16T11:27:48.510989Z",
     "start_time": "2021-04-16T11:27:48.505504Z"
    }
   },
   "outputs": [],
   "source": [
    "r3 = mini.reactions.get_by_id('R3'); r4 = mini.reactions.get_by_id('R4')"
   ]
  },
  {
   "cell_type": "code",
   "execution_count": 14,
   "metadata": {
    "ExecuteTime": {
     "end_time": "2021-04-16T11:27:48.531246Z",
     "start_time": "2021-04-16T11:27:48.512718Z"
    }
   },
   "outputs": [
    {
     "data": {
      "text/plain": [
       "{<Metabolite D at 0x7f6783775c40>: 1,\n",
       " <Metabolite B at 0x7f6783775c70>: -1,\n",
       " <Metabolite E at 0x7f6782e26280>: -1.0,\n",
       " <Metabolite F at 0x7f6782e266a0>: 1.0}"
      ]
     },
     "execution_count": 14,
     "metadata": {},
     "output_type": "execute_result"
    }
   ],
   "source": [
    "r3.add_metabolites({\n",
    "    e: -1.,\n",
    "    f: 1.\n",
    "})\n",
    "r3.metabolites"
   ]
  },
  {
   "cell_type": "code",
   "execution_count": 15,
   "metadata": {
    "ExecuteTime": {
     "end_time": "2021-04-16T11:27:48.540843Z",
     "start_time": "2021-04-16T11:27:48.535005Z"
    }
   },
   "outputs": [
    {
     "data": {
      "text/plain": [
       "{<Metabolite C at 0x7f6783775be0>: -1,\n",
       " <Metabolite D at 0x7f6783775c40>: 1,\n",
       " <Metabolite E at 0x7f6782e26280>: 1.0,\n",
       " <Metabolite F at 0x7f6782e266a0>: -1.0}"
      ]
     },
     "execution_count": 15,
     "metadata": {},
     "output_type": "execute_result"
    }
   ],
   "source": [
    "r4.add_metabolites({\n",
    "    e: 1.,\n",
    "    f: -1.\n",
    "})\n",
    "r4.metabolites"
   ]
  },
  {
   "cell_type": "code",
   "execution_count": 16,
   "metadata": {
    "ExecuteTime": {
     "end_time": "2021-04-16T11:27:48.560612Z",
     "start_time": "2021-04-16T11:27:48.542560Z"
    }
   },
   "outputs": [],
   "source": [
    "cobra.io.write_sbml_model(mini, 'mini_redox.xml')\n",
    "cobra.io.save_json_model(mini, 'mini_redox.json')"
   ]
  },
  {
   "cell_type": "markdown",
   "metadata": {},
   "source": [
    "# Mini complex GPR"
   ]
  },
  {
   "cell_type": "code",
   "execution_count": 17,
   "metadata": {
    "ExecuteTime": {
     "end_time": "2021-04-16T11:27:48.570287Z",
     "start_time": "2021-04-16T11:27:48.562286Z"
    }
   },
   "outputs": [
    {
     "name": "stdout",
     "output_type": "stream",
     "text": [
      "R1: A --> B\tG1\n",
      "R2: A --> C\tG2\n",
      "R3: B + E --> D + F\tG3\n",
      "R4: C + F --> D + E\tG4\n"
     ]
    }
   ],
   "source": [
    "for r in mini.reactions:\n",
    "    print(f'{r.id}: {r.build_reaction_string()}\\t{r.gene_reaction_rule}')"
   ]
  },
  {
   "cell_type": "code",
   "execution_count": 18,
   "metadata": {
    "ExecuteTime": {
     "end_time": "2021-04-16T11:27:48.578393Z",
     "start_time": "2021-04-16T11:27:48.572416Z"
    }
   },
   "outputs": [],
   "source": [
    "g1 = cobra.Gene(id='G1')\n",
    "g2 = cobra.Gene(id='G2')\n",
    "g3 = cobra.Gene(id='G3')\n",
    "g4 = cobra.Gene(id='G4')\n",
    "g5 = cobra.Gene(id='G5')\n",
    "g6 = cobra.Gene(id='G6')\n",
    "g7 = cobra.Gene(id='G7')\n",
    "g8 = cobra.Gene(id='G8')"
   ]
  },
  {
   "cell_type": "code",
   "execution_count": 19,
   "metadata": {
    "ExecuteTime": {
     "end_time": "2021-04-16T11:27:48.587998Z",
     "start_time": "2021-04-16T11:27:48.580341Z"
    }
   },
   "outputs": [],
   "source": [
    "mini.reactions.R3.gene_reaction_rule = 'G3 or (G4 and G5 and G6) or (G7 and G8)'"
   ]
  },
  {
   "cell_type": "code",
   "execution_count": 20,
   "metadata": {
    "ExecuteTime": {
     "end_time": "2021-04-16T11:27:48.603013Z",
     "start_time": "2021-04-16T11:27:48.590267Z"
    }
   },
   "outputs": [],
   "source": [
    "cobra.io.write_sbml_model(mini, 'mini_complex_gpr.xml')\n",
    "cobra.io.save_json_model(mini, 'mini_complex_gpr.json')"
   ]
  },
  {
   "cell_type": "markdown",
   "metadata": {},
   "source": [
    "# Highly connected"
   ]
  },
  {
   "cell_type": "code",
   "execution_count": 21,
   "metadata": {
    "ExecuteTime": {
     "end_time": "2021-04-16T11:27:48.615454Z",
     "start_time": "2021-04-16T11:27:48.606421Z"
    }
   },
   "outputs": [],
   "source": [
    "hc = cobra.Model('Highly connected')"
   ]
  },
  {
   "cell_type": "code",
   "execution_count": 22,
   "metadata": {
    "ExecuteTime": {
     "end_time": "2021-04-16T11:27:48.627838Z",
     "start_time": "2021-04-16T11:27:48.623209Z"
    }
   },
   "outputs": [],
   "source": [
    "a = cobra.Metabolite('A', compartment='c'); b = cobra.Metabolite('B', compartment='c'); \n",
    "c = cobra.Metabolite('C', compartment='c'); d = cobra.Metabolite('D', compartment='c'); \n",
    "e = cobra.Metabolite('E', compartment='c'); f = cobra.Metabolite('F', compartment='c')\n",
    "g = cobra.Metabolite('G', compartment='c')"
   ]
  },
  {
   "cell_type": "code",
   "execution_count": 23,
   "metadata": {
    "ExecuteTime": {
     "end_time": "2021-04-16T11:27:48.638384Z",
     "start_time": "2021-04-16T11:27:48.630902Z"
    }
   },
   "outputs": [],
   "source": [
    "r1 = cobra.Reaction('R1'); r2 = cobra.Reaction('R2'); r3 = cobra.Reaction('R3')\n",
    "r4 = cobra.Reaction('R4'); r5 = cobra.Reaction('R5'); r6 = cobra.Reaction('R6')\n",
    "r7 = cobra.Reaction('R7'); r8 = cobra.Reaction('R8'); r9 = cobra.Reaction('R9')\n",
    "r10 = cobra.Reaction('R10'); r11 = cobra.Reaction('R11')"
   ]
  },
  {
   "cell_type": "code",
   "execution_count": 24,
   "metadata": {
    "ExecuteTime": {
     "end_time": "2021-04-16T11:27:48.648351Z",
     "start_time": "2021-04-16T11:27:48.640188Z"
    }
   },
   "outputs": [],
   "source": [
    "r1.gene_reaction_rule = 'G1'; r2.gene_reaction_rule = 'G2'; r3.gene_reaction_rule = 'G3';\n",
    "r4.gene_reaction_rule = 'G4'; r5.gene_reaction_rule = 'G5'; r6.gene_reaction_rule = 'G6';\n",
    "r7.gene_reaction_rule = 'G7'; r8.gene_reaction_rule = 'G8'; r9.gene_reaction_rule = 'G9';\n",
    "r10.gene_reaction_rule = 'G10'; r11.gene_reaction_rule = 'G11';"
   ]
  },
  {
   "cell_type": "code",
   "execution_count": 25,
   "metadata": {
    "ExecuteTime": {
     "end_time": "2021-04-16T11:27:48.660374Z",
     "start_time": "2021-04-16T11:27:48.649993Z"
    }
   },
   "outputs": [],
   "source": [
    "r1.add_metabolites({a:-1, b:1}); r2.add_metabolites({a:-1, d:1}); r3.add_metabolites({b:-1, c:1})\n",
    "r4.add_metabolites({d:-1, e:1}); r5.add_metabolites({b:-1, f:1}); r6.add_metabolites({d:-1, f:1})\n",
    "r7.add_metabolites({f:-1, c:1}); r8.add_metabolites({f:-1, e:1}); r9.add_metabolites({c:-1, g:1})\n",
    "r10.add_metabolites({e:-1, g:1}); r11.add_metabolites({f:-1, g:1})"
   ]
  },
  {
   "cell_type": "code",
   "execution_count": 26,
   "metadata": {
    "ExecuteTime": {
     "end_time": "2021-04-16T11:27:48.677517Z",
     "start_time": "2021-04-16T11:27:48.662205Z"
    }
   },
   "outputs": [],
   "source": [
    "hc.add_reactions([r1, r2, r3, r4, r5, r6, r7, r8, r9, r10, r11])"
   ]
  },
  {
   "cell_type": "code",
   "execution_count": 27,
   "metadata": {
    "ExecuteTime": {
     "end_time": "2021-04-16T11:27:48.695127Z",
     "start_time": "2021-04-16T11:27:48.680694Z"
    }
   },
   "outputs": [],
   "source": [
    "cobra.io.write_sbml_model(hc, 'highly_connected.xml')\n",
    "cobra.io.save_json_model(hc, 'highly_connected.json')"
   ]
  }
 ],
 "metadata": {
  "kernelspec": {
   "display_name": "Python 3",
   "language": "python",
   "name": "python3"
  },
  "language_info": {
   "codemirror_mode": {
    "name": "ipython",
    "version": 3
   },
   "file_extension": ".py",
   "mimetype": "text/x-python",
   "name": "python",
   "nbconvert_exporter": "python",
   "pygments_lexer": "ipython3",
   "version": "3.9.6"
  },
  "toc": {
   "base_numbering": 1,
   "nav_menu": {},
   "number_sections": true,
   "sideBar": true,
   "skip_h1_title": false,
   "title_cell": "Table of Contents",
   "title_sidebar": "Contents",
   "toc_cell": false,
   "toc_position": {},
   "toc_section_display": true,
   "toc_window_display": false
  },
  "varInspector": {
   "cols": {
    "lenName": 16,
    "lenType": 16,
    "lenVar": 40
   },
   "kernels_config": {
    "python": {
     "delete_cmd_postfix": "",
     "delete_cmd_prefix": "del ",
     "library": "var_list.py",
     "varRefreshCmd": "print(var_dic_list())"
    },
    "r": {
     "delete_cmd_postfix": ") ",
     "delete_cmd_prefix": "rm(",
     "library": "var_list.r",
     "varRefreshCmd": "cat(var_dic_list()) "
    }
   },
   "types_to_exclude": [
    "module",
    "function",
    "builtin_function_or_method",
    "instance",
    "_Feature"
   ],
   "window_display": false
  }
 },
 "nbformat": 4,
 "nbformat_minor": 4
}
